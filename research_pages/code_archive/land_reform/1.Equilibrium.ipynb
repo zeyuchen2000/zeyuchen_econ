{
 "cells": [
  {
   "cell_type": "code",
   "execution_count": 2,
   "metadata": {},
   "outputs": [],
   "source": [
    "import numpy as np\n",
    "import pandas as pd \n",
    "import matplotlib.pyplot as plt\n",
    "import seaborn as sns\n",
    "from scipy.optimize import fsolve\n",
    "from scipy.optimize import root"
   ]
  },
  {
   "cell_type": "code",
   "execution_count": 3,
   "metadata": {},
   "outputs": [],
   "source": [
    "# 导入基准期变量\n",
    "N = 30\n",
    "J = 2\n",
    "\n",
    "## 2010年的城市部门建设用地面积\n",
    "K = np.array(pd.read_excel('./data/raw_and_build/urban_constructive_land_area.xlsx').loc[:,'Land2010'])\n",
    "K = np.delete(K, 25).reshape([N, 1])\n",
    "\n",
    "## 贸易份额\n",
    "pi = np.array(pd.read_excel('./data/raw_and_build/trade_share/trade_share_sep.xlsx').iloc[:, 1:]) # 列向加总=1，每一列代表一个进口地区，这里用了不存在跨部门贸易的share\n",
    "\n",
    "## 流动份额\n",
    "# m = np.array(pd.read_excel('./data/raw_and_build/migration_share/migration_share_TZ2019.xlsx').iloc[:, 1:]) # 人口普查数据构建的人口流动矩阵，列向加总=1，每一列代表对应一个流出地\n",
    "m = np.array(pd.read_excel('./data/raw_and_build/migration_share/migration_share_TZ2019.xlsx').iloc[:, 1:]).T # Tombe and Zhu (2019)的数据，列向加总=1，每一列代表对应一个流出地\n",
    "\n",
    "## 各地区常住居民数量与户籍人口\n",
    "# L = np.array(pd.read_excel('./data/raw_and_build/macro_var_2010.xlsx').loc[:, 'L']).reshape([N*J, 1])\n",
    "L_bar = np.array(pd.read_excel('./data/raw_and_build/macro_var_2010.xlsx').loc[:, 'L_bar']).reshape([N*J, 1])\n",
    "L = m @ L_bar \n",
    "\n",
    "## 各地居民的实际收入与价格指数\n",
    "w = np.array(pd.read_excel('./data/raw_and_build/macro_var_2010.xlsx').loc[:, 'w']).reshape([N*J, 1])\n",
    "P = np.array(pd.read_excel('./data/raw_and_build/macro_var_2010.xlsx').loc[:, 'P']).reshape([N*J, 1])\n",
    "W = w / P"
   ]
  },
  {
   "cell_type": "code",
   "execution_count": 4,
   "metadata": {},
   "outputs": [],
   "source": [
    "# 导入参数\n",
    "kappa = 1.5 # 流动弹性：使用Tombe and Zhu (2019)的数值\n",
    "theta = 4 # 贸易弹性：使用Tombe and Zhu (2019)的数值\n",
    "beta = 0.9 # 居民消费份额：根据2011年《中国统计年鉴》中公布的城镇居民非住房支出份额求得\n",
    "psi_ag, psi_na = 0.08, 0.92 # 居民最终品消费中农产品和非农产品的份额，根据2010年IO表求得\n",
    "alpha_ag, alpha_na = 0.28, 0.15 # 劳动产出弹性：根据2010年IO表和部分文献校准值求得\n",
    "sigma_ag, sigma_na = 0.30, 0.02 # 土地产出弹性：根据2010年IO表和部分文献校准值求得\n",
    "eta_ag_ag, eta_ag_na = 0.13, 0.05 # 农产品在农村部门和城市部门的产出弹性：根据2010年IO表和部分文献校准值求得\n",
    "eta_na_ag, eta_na_na = 0.29, 0.78 # 非农产品在农村部门和城市部门的产出弹性：根据2010年IO表和部分文献校准值求得\n",
    "phiu = 0.1 # 公共支出对居民效用的外部性：使用Leeper et al.(2010)的数值\n",
    "phip = 0.05 # 公共支出对生产的外部性：使用Leeper et al. (2010)的数值\n",
    "chi = 0.9 # 公共品拥挤参数：ZC2021，取0.5\n",
    "eta = 5 # 最终品构成中各中间品的替代弹性：随便取，用不到的\n",
    "delta = 0 # 体现规模经济效应的规模弹性(基准模型中未体现规模经济效应)\n",
    "xi_ag, xi_na = 0.01, 0.99 # 政府购买的最终产品份额：根据2010年IO表直接求得\n",
    "t = 1 # 收入税：暂时先假设的"
   ]
  },
  {
   "cell_type": "code",
   "execution_count": 5,
   "metadata": {},
   "outputs": [
    {
     "name": "stdout",
     "output_type": "stream",
     "text": [
      "252\r"
     ]
    }
   ],
   "source": [
    "# 求解基准均衡\n",
    "R = np.ndarray([60, 1])\n",
    "X0 = np.zeros([60, 1])\n",
    "X = np.ones([60, 1])\n",
    "iter_num = 0\n",
    "\n",
    "while abs((X0 - X)).sum() > 1e-10:\n",
    "    X0 = X\n",
    "    R = pi @ X0\n",
    "    wL = (R.reshape([30, 2]) * np.array([alpha_ag, alpha_na]).reshape([1, 2])).reshape([60, 1])\n",
    "    wL = wL / wL.sum() # 标准化\n",
    "    vL = (wL.reshape([30, 2]) * np.array([(alpha_ag + sigma_ag) / (beta + t - beta * t) / alpha_ag, 1]).reshape([1, 2])).reshape([60, 1])\n",
    "    PG = (wL.reshape([30, 2]) * np.array([t * (alpha_ag + sigma_ag) / (beta + t - beta * t) / alpha_ag, 1 - beta + sigma_na / alpha_na + beta * t]).reshape([1, 2])).reshape([60, 1])\n",
    "    A = (beta * (1 - t) * np.repeat(vL.reshape([30, 2]).sum(axis=1).reshape([30, 1]), 2, axis=1) * np.array([psi_ag, psi_na]).reshape([1, 2])).reshape([60, 1])\n",
    "    C = (np.repeat(PG.reshape([30, 2]).sum(axis=1).reshape([30, 1]), 2, axis=1) * np.array([xi_ag, xi_na]).reshape([1, 2])).reshape([60, 1])\n",
    "    B_ag = ((R.reshape([30, 2]) * np.array([eta_ag_ag, eta_ag_na]).reshape([1, 2])).sum(axis=1)).reshape([30, 1])\n",
    "    B_na = ((R.reshape([30, 2]) * np.array([eta_na_ag, eta_na_na]).reshape([1, 2])).sum(axis=1)).reshape([30, 1])\n",
    "    B = np.concatenate([B_ag, B_na], axis=1).reshape([60, 1])\n",
    "    X = A + B + C\n",
    "\n",
    "    iter_num += 1\n",
    "    print(str(iter_num), end='\\r')\n",
    "\n",
    "equilibrium_dict = {\n",
    "    'pi' : pi,\n",
    "    'm' : m,\n",
    "    'L' : L,\n",
    "    'L_bar' : L_bar,\n",
    "    'w' : w,\n",
    "    'P' : P,\n",
    "    'W' : W,\n",
    "    'R' : R,\n",
    "    'X' : X,\n",
    "    'K' : K\n",
    "}\n",
    "\n",
    "parameter = {\n",
    "    'kappa' : kappa,\n",
    "    'theta' : theta,\n",
    "    'beta' : beta,\n",
    "    'psi_ag' : psi_ag,\n",
    "    'psi_na' : psi_na,\n",
    "    'alpha_ag' : alpha_ag,\n",
    "    'alpha_na' : alpha_na,\n",
    "    'sigma_ag' : sigma_ag,\n",
    "    'sigma_na' : sigma_na,\n",
    "    'eta_ag_ag' : eta_ag_ag, \n",
    "    'eta_ag_na' : eta_ag_na,\n",
    "    'eta_na_ag' : eta_na_ag, \n",
    "    'eta_na_na' : eta_na_na,\n",
    "    'phiu' : phiu,\n",
    "    'phip' : phip,\n",
    "    'chi' : chi,\n",
    "    'eta' : eta,\n",
    "    'delta' : delta,\n",
    "    'xi_ag' : xi_ag,\n",
    "    'xi_na' : xi_na,\n",
    "    't' : t\n",
    "}\n",
    "np.savez('./data/Equilibrium2010.npz', **equilibrium_dict)\n",
    "np.savez('./data/Parameter.npz', **parameter)"
   ]
  },
  {
   "cell_type": "code",
   "execution_count": 6,
   "metadata": {},
   "outputs": [
    {
     "name": "stdout",
     "output_type": "stream",
     "text": [
      "True\n"
     ]
    }
   ],
   "source": [
    "# 求解基准均衡(用现成package的求解函数做验证)\n",
    "\n",
    "def SolveCounter(X):\n",
    "    X = X.reshape([60, 1])\n",
    "    R = pi @ X\n",
    "    wL = (R.reshape([30, 2]) * np.array([alpha_ag, alpha_na]).reshape([1, 2])).reshape([60, 1])\n",
    "    wL = wL / wL.sum() # 标准化\n",
    "    vL = (wL.reshape([30, 2]) * np.array([(alpha_ag + sigma_ag) / (beta + t - beta * t) / alpha_ag, 1]).reshape([1, 2])).reshape([60, 1])\n",
    "    PG = (wL.reshape([30, 2]) * np.array([t * (alpha_ag + sigma_ag) / (beta + t - beta * t) / alpha_ag, 1 - beta + sigma_na / alpha_na + beta * t]).reshape([1, 2])).reshape([60, 1])\n",
    "    A = (beta * (1 - t) * np.repeat(vL.reshape([30, 2]).sum(axis=1).reshape([30, 1]), 2, axis=1) * np.array([psi_ag, psi_na]).reshape([1, 2])).reshape([60, 1])\n",
    "    C = (np.repeat(PG.reshape([30, 2]).sum(axis=1).reshape([30, 1]), 2, axis=1) * np.array([xi_ag, xi_na]).reshape([1, 2])).reshape([60, 1])\n",
    "    B_ag = ((R.reshape([30, 2]) * np.array([eta_ag_ag, eta_ag_na]).reshape([1, 2])).sum(axis=1)).reshape([30, 1])\n",
    "    B_na = ((R.reshape([30, 2]) * np.array([eta_na_ag, eta_na_na]).reshape([1, 2])).sum(axis=1)).reshape([30, 1])\n",
    "    B = np.concatenate([B_ag, B_na], axis=1).reshape([60, 1])\n",
    "    \n",
    "    return (X - A - B - C).flatten()\n",
    "\n",
    "X_test = root(SolveCounter, x0=np.ones(60))\n",
    "X_test = X_test.x.reshape([60, 1])\n",
    "print(abs(X - X_test).sum() < 0.000001) # 检查"
   ]
  }
 ],
 "metadata": {
  "kernelspec": {
   "display_name": "base",
   "language": "python",
   "name": "python3"
  },
  "language_info": {
   "codemirror_mode": {
    "name": "ipython",
    "version": 3
   },
   "file_extension": ".py",
   "mimetype": "text/x-python",
   "name": "python",
   "nbconvert_exporter": "python",
   "pygments_lexer": "ipython3",
   "version": "3.8.8"
  },
  "orig_nbformat": 4
 },
 "nbformat": 4,
 "nbformat_minor": 2
}
