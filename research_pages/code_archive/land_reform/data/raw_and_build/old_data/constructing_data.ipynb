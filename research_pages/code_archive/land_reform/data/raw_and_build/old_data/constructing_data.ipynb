{
 "cells": [
  {
   "cell_type": "code",
   "execution_count": 1,
   "metadata": {},
   "outputs": [],
   "source": [
    "import numpy as np\n",
    "import pandas as pd \n",
    "import matplotlib.pyplot as plt\n",
    "import scipy.io as scio"
   ]
  },
  {
   "cell_type": "code",
   "execution_count": 3,
   "metadata": {},
   "outputs": [],
   "source": [
    "# 生成完整的mu_hat的矩阵(2010年前样本)\n",
    "## index:上海8，江苏9，浙江10\n",
    "kappa = 1.1\n",
    "muhat_csj = pd.read_excel('./muhat_csj.xlsx')\n",
    "muhat_csj = np.array(muhat_csj[(muhat_csj['sample']==2010) & (muhat_csj['kappa']==kappa)].iloc[:, 2:]).flatten()\n",
    "\n",
    "muhat_2010 = np.ones([31, 31])\n",
    "muhat_2010[8, 9] = muhat_csj[0] # 江苏到上海的移民成本\n",
    "muhat_2010[8, 10] = muhat_csj[0] # 浙江到上海的移民成本\n",
    "muhat_2010[9, 8] = muhat_csj[1] # 上海到江苏的移民成本\n",
    "muhat_2010[9, 10] = muhat_csj[1] # 浙江到江苏的移民成本\n",
    "muhat_2010[10, 8] = muhat_csj[2] # 上海到浙江的移民成本\n",
    "muhat_2010[10, 9] = muhat_csj[2] # 江苏到浙江的移民成本\n",
    "\n",
    "np.savetxt('./muhat_2010.csv', muhat_2010, delimiter=',')"
   ]
  },
  {
   "cell_type": "code",
   "execution_count": 10,
   "metadata": {},
   "outputs": [],
   "source": [
    "# 生成完整的mu_hat的矩阵(全样本)\n",
    "kappa = 1.1\n",
    "muhat_csj = pd.read_excel('./muhat_csj.xlsx')\n",
    "muhat_csj = np.array(muhat_csj[(muhat_csj['sample']=='full') & (muhat_csj['kappa']==kappa)].iloc[:, 2:]).flatten()\n",
    "\n",
    "muhat_full = np.ones([31, 31])\n",
    "muhat_full[8, 9] = muhat_csj[0] # 江苏到上海的移民成本\n",
    "muhat_full[8, 10] = muhat_csj[0] # 浙江到上海的移民成本\n",
    "muhat_full[9, 8] = muhat_csj[1] # 上海到江苏的移民成本\n",
    "muhat_full[9, 10] = muhat_csj[1] # 浙江到江苏的移民成本\n",
    "muhat_full[10, 8] = muhat_csj[2] # 上海到浙江的移民成本\n",
    "muhat_full[10, 9] = muhat_csj[2] # 江苏到浙江的移民成本\n",
    "\n",
    "np.savetxt('./muhat_full.csv', muhat_full, delimiter=',')"
   ]
  },
  {
   "cell_type": "code",
   "execution_count": 21,
   "metadata": {},
   "outputs": [],
   "source": [
    "# 计算各省以1990为基期的价格指数\n",
    "cpi_data = pd.read_excel('./1990-2000各省份CPI.xlsx')\n",
    "prov_list = list(set(cpi_data.prov))\n",
    "\n",
    "cpi_list = []\n",
    "for i in prov_list:\n",
    "    cpi_i = np.array(cpi_data[(cpi_data['prov']==i) & (cpi_data['year']!=1990)].CPI) / 100\n",
    "    cpi2000_i = np.prod(cpi_i)\n",
    "    cpi_list.append(cpi2000_i)\n",
    "\n",
    "cpi2000 = pd.concat([pd.Series(prov_list), pd.Series(cpi_list)], axis=1)\n",
    "cpi2000.columns = ['prov', 'cpi2000']\n",
    "cpi2000.to_excel('./CPI2000.xlsx', index=False)"
   ]
  },
  {
   "cell_type": "code",
   "execution_count": null,
   "metadata": {},
   "outputs": [],
   "source": []
  },
  {
   "cell_type": "code",
   "execution_count": null,
   "metadata": {},
   "outputs": [],
   "source": []
  }
 ],
 "metadata": {
  "kernelspec": {
   "display_name": "base",
   "language": "python",
   "name": "python3"
  },
  "language_info": {
   "codemirror_mode": {
    "name": "ipython",
    "version": 3
   },
   "file_extension": ".py",
   "mimetype": "text/x-python",
   "name": "python",
   "nbconvert_exporter": "python",
   "pygments_lexer": "ipython3",
   "version": "3.8.8"
  },
  "orig_nbformat": 4
 },
 "nbformat": 4,
 "nbformat_minor": 2
}
