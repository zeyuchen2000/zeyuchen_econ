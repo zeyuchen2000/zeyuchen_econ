{
 "cells": [
  {
   "cell_type": "code",
   "execution_count": 1,
   "metadata": {},
   "outputs": [],
   "source": [
    "import numpy as np\n",
    "import pandas as pd"
   ]
  },
  {
   "cell_type": "code",
   "execution_count": 16,
   "metadata": {},
   "outputs": [],
   "source": [
    "# 加总投入产出表\n",
    "\n",
    "## 导入原始数据\n",
    "full_table = pd.read_excel('./China Multi-Regional Input-Output Table 2012.xlsx', sheet_name='Table')\n",
    "full_IO = np.array(full_table.iloc[3:1305, 3:1305].reset_index(drop=True))\n",
    "\n",
    "## 汇总至62×62的投入产出表\n",
    "N = 31\n",
    "J = 2\n",
    "\n",
    "aux_IO = np.ndarray([N*J, 1302])\n",
    "for i in range(N*J): ## 先列向加总\n",
    "    if i % 2 == 0:\n",
    "        aux_IO[i, :] = full_IO[i//2*42, :]\n",
    "    if i % 2 == 1:\n",
    "        aux_IO[i, :] = full_IO[i//2*42+1 : (i//2+1)*42, :].sum(axis=0)\n",
    "\n",
    "IO = np.ndarray([N*J, N*J])\n",
    "for i in range(N*J): ## 再行向加总\n",
    "    if i % 2 == 0:\n",
    "        IO[:, i] = aux_IO[:, i//2*42]\n",
    "    if i % 2 == 1:\n",
    "        IO[:, i] = aux_IO[:, i//2*42+1 : (i//2+1)*42].sum(axis=1)"
   ]
  },
  {
   "cell_type": "code",
   "execution_count": 17,
   "metadata": {},
   "outputs": [],
   "source": [
    "# 构建贸易份额\n",
    "\n",
    "## 在投入产出表中去掉西藏\n",
    "IO = np.delete(IO, [50, 51], axis=0) # 删除西藏\n",
    "IO = np.delete(IO, [50, 51], axis=1) # 删除西藏\n",
    "\n",
    "## 计算贸易份额矩阵\n",
    "trade_share = IO / IO.sum(axis = 0).reshape([1, 60])\n",
    "\n",
    "prov = list(full_table.iloc[:, 0].dropna())\n",
    "prov.remove('西藏')\n",
    "prov_sector = []\n",
    "for each_prov in prov:\n",
    "    prov_sector.append(each_prov + '-农业部门')\n",
    "    prov_sector.append(each_prov + '-非农部门')\n",
    "\n",
    "trade_share  = pd.DataFrame(trade_share)\n",
    "trade_share.index, trade_share.columns = prov_sector, prov_sector\n",
    "trade_share.to_excel('./trade_share.xlsx')"
   ]
  },
  {
   "cell_type": "code",
   "execution_count": 18,
   "metadata": {},
   "outputs": [],
   "source": [
    "## 构建只考虑相同部门间贸易的贸易份额\n",
    "\n",
    "trade_share = np.array(pd.read_excel('./trade_share.xlsx').iloc[:, 1:])\n",
    "for column in range(60):\n",
    "    if column % 2 == 0:\n",
    "        for index in range(1, 60, 2):\n",
    "            trade_share[index, column] = 0\n",
    "    if column % 2 == 1:\n",
    "        for index in range(0, 60, 2):\n",
    "            trade_share[index, column] = 0\n",
    "\n",
    "trade_share = (trade_share.T / trade_share.sum(axis=0).reshape([60, 1])).T\n",
    "\n",
    "trade_share  = pd.DataFrame(trade_share)\n",
    "trade_share.index, trade_share.columns = prov_sector, prov_sector\n",
    "trade_share.to_excel('./trade_share1.xlsx')"
   ]
  }
 ],
 "metadata": {
  "kernelspec": {
   "display_name": "base",
   "language": "python",
   "name": "python3"
  },
  "language_info": {
   "codemirror_mode": {
    "name": "ipython",
    "version": 3
   },
   "file_extension": ".py",
   "mimetype": "text/x-python",
   "name": "python",
   "nbconvert_exporter": "python",
   "pygments_lexer": "ipython3",
   "version": "3.8.8"
  }
 },
 "nbformat": 4,
 "nbformat_minor": 2
}
